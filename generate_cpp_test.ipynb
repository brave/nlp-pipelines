{
 "cells": [
  {
   "cell_type": "code",
   "execution_count": 1,
   "metadata": {},
   "outputs": [],
   "source": [
    "from nlp_pipelines import hash_vectorizer"
   ]
  },
  {
   "cell_type": "code",
   "execution_count": 6,
   "metadata": {},
   "outputs": [],
   "source": [
    "test_inputs = {  \"empty\":\"\", \n",
    "                \"tiny\":\"tiny\",\n",
    "                \"english\":\"This is a test string\",\n",
    "                \"greek\": \"δούλεψε ρε τεστ\", \n",
    "                \"japanese\":\"比類のない教育のインスピレーションネットワークグローバルゲー\",\n",
    "                \"multilingual\": \"δούλεψε ρε test 比類の\" }"
   ]
  },
  {
   "cell_type": "code",
   "execution_count": 5,
   "metadata": {},
   "outputs": [
    {
     "data": {
      "text/plain": [
       "{4634: 7,\n",
       " 2920: 1,\n",
       " 3296: 1,\n",
       " 9644: 6,\n",
       " 4048: 1,\n",
       " 8729: 1,\n",
       " 654: 4,\n",
       " 9103: 1,\n",
       " 2277: 2,\n",
       " 9467: 1,\n",
       " 7524: 2,\n",
       " 4439: 1,\n",
       " 1722: 1,\n",
       " 4660: 1,\n",
       " 5554: 1,\n",
       " 4457: 1,\n",
       " 5491: 1,\n",
       " 94: 1,\n",
       " 8075: 1,\n",
       " 1787: 1,\n",
       " 4316: 4,\n",
       " 5603: 2,\n",
       " 7052: 1,\n",
       " 3611: 1,\n",
       " 2538: 2,\n",
       " 764: 2,\n",
       " 9096: 1,\n",
       " 4418: 1,\n",
       " 6375: 2,\n",
       " 3559: 1,\n",
       " 1540: 1,\n",
       " 3254: 1,\n",
       " 3475: 1,\n",
       " 3955: 1,\n",
       " 2302: 1,\n",
       " 387: 1,\n",
       " 1006: 1,\n",
       " 7781: 1,\n",
       " 7004: 1,\n",
       " 8656: 1,\n",
       " 2804: 2,\n",
       " 9514: 1,\n",
       " 9291: 1,\n",
       " 1129: 1,\n",
       " 7213: 2,\n",
       " 6282: 2,\n",
       " 9029: 1,\n",
       " 7778: 1,\n",
       " 9590: 1,\n",
       " 122: 1,\n",
       " 7031: 1,\n",
       " 573: 1,\n",
       " 2370: 1,\n",
       " 8246: 1,\n",
       " 19: 1,\n",
       " 5400: 1,\n",
       " 1949: 1,\n",
       " 7224: 1,\n",
       " 1036: 1,\n",
       " 5579: 1,\n",
       " 6100: 1,\n",
       " 7835: 1,\n",
       " 5569: 1,\n",
       " 3361: 1,\n",
       " 5405: 1,\n",
       " 9223: 1,\n",
       " 5767: 1,\n",
       " 6657: 2,\n",
       " 1203: 1,\n",
       " 5714: 1,\n",
       " 1048: 1,\n",
       " 9421: 1,\n",
       " 8844: 1,\n",
       " 6679: 1,\n",
       " 2051: 1,\n",
       " 9270: 1,\n",
       " 1145: 1,\n",
       " 6848: 1,\n",
       " 9341: 1,\n",
       " 9478: 1,\n",
       " 8029: 1,\n",
       " 4695: 1,\n",
       " 8543: 1,\n",
       " 5167: 1,\n",
       " 1417: 1,\n",
       " 4698: 1,\n",
       " 2837: 1,\n",
       " 4982: 1,\n",
       " 7842: 1,\n",
       " 2044: 1,\n",
       " 7731: 1,\n",
       " 1432: 1,\n",
       " 7527: 1,\n",
       " 9981: 1,\n",
       " 6150: 1,\n",
       " 8338: 1,\n",
       " 2807: 1,\n",
       " 6226: 1,\n",
       " 3798: 1,\n",
       " 9805: 1,\n",
       " 5770: 1,\n",
       " 891: 1,\n",
       " 200: 1,\n",
       " 8967: 1,\n",
       " 8314: 1,\n",
       " 3589: 1,\n",
       " 177: 1,\n",
       " 4790: 1,\n",
       " 9890: 1,\n",
       " 5119: 1,\n",
       " 9070: 1,\n",
       " 9192: 1,\n",
       " 436: 1,\n",
       " 3468: 1,\n",
       " 5971: 1,\n",
       " 8973: 1,\n",
       " 2357: 1,\n",
       " 3150: 1,\n",
       " 7469: 1,\n",
       " 9348: 1,\n",
       " 1304: 1,\n",
       " 334: 1,\n",
       " 2181: 1,\n",
       " 9157: 1,\n",
       " 2891: 1,\n",
       " 4290: 1}"
      ]
     },
     "execution_count": 5,
     "metadata": {},
     "output_type": "execute_result"
    }
   ],
   "source": [
    "hash_vectorizer.count_hashed_ngrams(test_cases['greek'])"
   ]
  },
  {
   "cell_type": "code",
   "execution_count": 7,
   "metadata": {},
   "outputs": [],
   "source": [
    "test_cases = {}\n",
    "for test_name in test_inputs.keys():\n",
    "    tmp = hash_vectorizer.count_hashed_ngrams(test_inputs[test_name])\n",
    "    test_cases[test_name] = {'input':test_inputs[test_name], 'idx':list(tmp.keys()), 'count':list(tmp.values()) }\n",
    "    "
   ]
  },
  {
   "cell_type": "code",
   "execution_count": 12,
   "metadata": {},
   "outputs": [],
   "source": [
    "import json\n",
    "with open('new_hash_check.json','w') as f:\n",
    "    f.write(json.dumps(test_cases,ensure_ascii=False))"
   ]
  },
  {
   "cell_type": "code",
   "execution_count": 11,
   "metadata": {},
   "outputs": [],
   "source": [
    "more new_hash_check.json"
   ]
  },
  {
   "cell_type": "code",
   "execution_count": null,
   "metadata": {},
   "outputs": [],
   "source": []
  }
 ],
 "metadata": {
  "kernelspec": {
   "display_name": "Python 3",
   "language": "python",
   "name": "python3"
  },
  "language_info": {
   "codemirror_mode": {
    "name": "ipython",
    "version": 3
   },
   "file_extension": ".py",
   "mimetype": "text/x-python",
   "name": "python",
   "nbconvert_exporter": "python",
   "pygments_lexer": "ipython3",
   "version": "3.7.3"
  }
 },
 "nbformat": 4,
 "nbformat_minor": 2
}
